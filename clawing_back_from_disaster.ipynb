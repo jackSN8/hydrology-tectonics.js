{
 "cells": [
  {
   "cell_type": "code",
   "execution_count": 116,
   "metadata": {},
   "outputs": [],
   "source": [
    "#import penis as cock\n",
    "import numpy as np\n",
    "import matplotlib.pyplot as plt\n",
    "from perlin_noise import PerlinNoise\n",
    "\n"
   ]
  },
  {
   "cell_type": "code",
   "execution_count": 117,
   "metadata": {},
   "outputs": [
    {
     "name": "stdout",
     "output_type": "stream",
     "text": [
      "The sum of water is [1700. 1700. 1700. 1700. 1700. 1700. 1700. 1700. 1700. 1700. 1700. 1700.\n",
      " 1700. 1700. 1700. 1700. 1700. 1700. 1700. 1700. 1700. 1700. 1700. 1700.\n",
      " 1700. 1700. 1700. 1700. 1700. 1700. 1700. 1700. 1700. 1700. 1700. 1700.\n",
      " 1700. 1700. 1700. 1700. 1700. 1700. 1700. 1700. 1700. 1700. 1700. 1700.\n",
      " 1700. 1700. 1700. 1700. 1700. 1700. 1700. 1700. 1700. 1700. 1700. 1700.\n",
      " 1700. 1700. 1700. 1700. 1700. 1700. 1700. 1700. 1700. 1700. 1700. 1700.\n",
      " 1700. 1700. 1700. 1700. 1700. 1700. 1700. 1700. 1700. 1700. 1700. 1700.\n",
      " 1700. 1700. 1700. 1700. 1700. 1700. 1700. 1700. 1700. 1700. 1700. 1700.\n",
      " 1700. 1700. 1700. 1700.]\n"
     ]
    }
   ],
   "source": [
    "\n",
    "# Parameters for the P\n",
    "width, height = 100, 100\n",
    "scale = (width,height)\n",
    "mu = 0.3\n",
    "\n",
    "noise = PerlinNoise(octaves=4)\n",
    "global watermap,waterbuffer,heightmap\n",
    "\n",
    "# Generate the various maps\n",
    "# heightmap = np.zeros((width, height))\n",
    "# for i in range(width):\n",
    "#     for j in range(height):\n",
    "#         heightmap[i][j] = 20*noise([i,j])\n",
    "watermap = np.empty([width,height]) \n",
    "watermap[20:40,20:40] = 100\n",
    "#watermap.fill(17)\n",
    "#print(watermap)\n",
    "waterbuffer = np.array(watermap)\n",
    "print(f\"The sum of water is {(watermap.sum(axis=0))}\")\n",
    "\n",
    "\n",
    "def waterPush1D(direction): #1 - lr, 2 - ud, 3 - rl, 4 - du\n",
    "    jeff = waterbuffer[1][0]\n",
    "    startX = 0\n",
    "    endX = 0\n",
    "    if(direction < 2):\n",
    "        #next two lines need to be changed if map not square    \n",
    "        startX = 0\n",
    "        endX = width\n",
    "        shiftY = int(direction)\n",
    "        shiftX = int(1-direction)\n",
    "        for i in range(width-shiftX):\n",
    "            for j in range(height-shiftY):\n",
    "\n",
    "                deltaH = mu*(waterbuffer[i][j]-waterbuffer[i+shiftX][j+shiftY])\n",
    "                deltaH = calcSign(deltaH)*min([abs(deltaH),waterbuffer[i][j],waterbuffer[i+shiftX][j+shiftY]])\n",
    "                watermap[i][j] -= deltaH\n",
    "                watermap[i+shiftX][j+shiftY] += deltaH\n",
    "        resetWater()\n",
    "    else:\n",
    "        #next two lines need to be changed if map not square    \n",
    "        startX = width\n",
    "        endX = 0\n",
    "        shiftY = -int(direction-2)\n",
    "        print(shiftY)\n",
    "        shiftX = -int(1-direction-2)\n",
    "        for i in range(width,-shiftX,shiftX):\n",
    "            for j in range(height,-shiftY,-shiftY):\n",
    "\n",
    "                deltaH = mu*(waterbuffer[i][j]-waterbuffer[i+shiftX][j+shiftY])\n",
    "                deltaH = calcSign(deltaH)*min([abs(deltaH),waterbuffer[i][j],waterbuffer[i+shiftX][j+shiftY]])\n",
    "                watermap[i][j] -= deltaH\n",
    "                watermap[i+shiftX][j+shiftY] += deltaH\n",
    "        resetWater()\n",
    "    \n",
    "\n",
    "def waterTick():\n",
    "    jeff = waterbuffer[1][0]\n",
    "    for d in range(4):\n",
    "        waterPush1D(d)\n",
    "\n",
    "def resetWater():\n",
    "    waterbuffer = np.array(watermap)\n",
    "\n",
    "def calcSign(inp):\n",
    "    if(inp>=0):\n",
    "        return 1\n",
    "    else:\n",
    "        return -1\n"
   ]
  },
  {
   "cell_type": "code",
   "execution_count": 118,
   "metadata": {},
   "outputs": [
    {
     "name": "stdout",
     "output_type": "stream",
     "text": [
      "The sum of water is 170000.0\n"
     ]
    }
   ],
   "source": [
    "for i in range(500):\n",
    "    waterTick()\n",
    "\n",
    "print(f\"The sum of water is {np.sum(watermap)}\")\n"
   ]
  }
 ],
 "metadata": {
  "kernelspec": {
   "display_name": "Python 3",
   "language": "python",
   "name": "python3"
  },
  "language_info": {
   "codemirror_mode": {
    "name": "ipython",
    "version": 3
   },
   "file_extension": ".py",
   "mimetype": "text/x-python",
   "name": "python",
   "nbconvert_exporter": "python",
   "pygments_lexer": "ipython3",
   "version": "3.12.4"
  }
 },
 "nbformat": 4,
 "nbformat_minor": 2
}
