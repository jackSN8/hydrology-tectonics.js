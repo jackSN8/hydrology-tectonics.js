{
 "cells": [
  {
   "cell_type": "code",
   "execution_count": 82,
   "metadata": {},
   "outputs": [],
   "source": [
    "#import penis as cock\n",
    "import numpy as np\n",
    "import matplotlib.pyplot as plt\n",
    "from perlin_noise import PerlinNoise\n",
    "\n"
   ]
  },
  {
   "cell_type": "code",
   "execution_count": 83,
   "metadata": {},
   "outputs": [],
   "source": [
    "\n",
    "# Parameters for the P\n",
    "width, height = 100, 100\n",
    "scale = (width,height)\n",
    "mu = 0.3\n",
    "\n",
    "noise = PerlinNoise(octaves=4)\n",
    "\n",
    "# Generate the various maps\n",
    "# heightmap = np.zeros((width, height))\n",
    "# for i in range(width):\n",
    "#     for j in range(height):\n",
    "#         heightmap[i][j] = 20*noise([i,j])\n",
    "\n",
    "watermap = np.empty([width,height]) \n",
    "watermap.fill(17)\n",
    "#print(watermap)\n",
    "waterbuffer = np.array(watermap)\n",
    "#print(waterbuffer[0][1])\n",
    "jeff = waterbuffer[1][0]\n",
    "\n",
    "def waterTick():\n",
    "    jeff = waterbuffer[1][0]\n",
    "    for d in range(4):\n",
    "        waterPush1D(d)\n",
    "\n",
    "def waterPush1D(direction): #1 - lr, 2 - ud, 3 - rl, 4 - du\n",
    "    jeff = waterbuffer[1][0]\n",
    "    startX = 0\n",
    "    endX = 0\n",
    "    if(direction < 2):\n",
    "        #next two lines need to be changed if map not square    \n",
    "        startX = 0\n",
    "        endX = width\n",
    "        shiftY = int(direction)\n",
    "        shiftX = int(1-direction)\n",
    "        for i in range(width-shiftX):\n",
    "            for j in range(height-shiftY):\n",
    "\n",
    "                deltaH = mu*(waterbuffer[i][j]-waterbuffer[i+shiftX][j+shiftY])\n",
    "                deltaH = (deltaH/abs(deltaH))*min([abs(deltaH),waterbuffer[i][j],waterbuffer[i+shiftX][j+shiftY]])\n",
    "                watermap[i][j] -= deltaH\n",
    "                watermap[i+shiftX][j+shiftY] += deltaH\n",
    "        waterbuffer = np.array(watermap)\n",
    "\n"
   ]
  },
  {
   "cell_type": "code",
   "execution_count": 84,
   "metadata": {},
   "outputs": [
    {
     "ename": "UnboundLocalError",
     "evalue": "cannot access local variable 'waterbuffer' where it is not associated with a value",
     "output_type": "error",
     "traceback": [
      "\u001b[1;31m---------------------------------------------------------------------------\u001b[0m",
      "\u001b[1;31mUnboundLocalError\u001b[0m                         Traceback (most recent call last)",
      "Cell \u001b[1;32mIn[84], line 2\u001b[0m\n\u001b[0;32m      1\u001b[0m \u001b[38;5;28;01mfor\u001b[39;00m i \u001b[38;5;129;01min\u001b[39;00m \u001b[38;5;28mrange\u001b[39m(\u001b[38;5;241m500\u001b[39m):\n\u001b[1;32m----> 2\u001b[0m     \u001b[43mwaterTick\u001b[49m\u001b[43m(\u001b[49m\u001b[43m)\u001b[49m\n",
      "Cell \u001b[1;32mIn[83], line 24\u001b[0m, in \u001b[0;36mwaterTick\u001b[1;34m()\u001b[0m\n\u001b[0;32m     22\u001b[0m jeff \u001b[38;5;241m=\u001b[39m waterbuffer[\u001b[38;5;241m1\u001b[39m][\u001b[38;5;241m0\u001b[39m]\n\u001b[0;32m     23\u001b[0m \u001b[38;5;28;01mfor\u001b[39;00m d \u001b[38;5;129;01min\u001b[39;00m \u001b[38;5;28mrange\u001b[39m(\u001b[38;5;241m4\u001b[39m):\n\u001b[1;32m---> 24\u001b[0m     \u001b[43mwaterPush1D\u001b[49m\u001b[43m(\u001b[49m\u001b[43md\u001b[49m\u001b[43m)\u001b[49m\n",
      "Cell \u001b[1;32mIn[83], line 29\u001b[0m, in \u001b[0;36mwaterPush1D\u001b[1;34m(direction)\u001b[0m\n\u001b[0;32m     27\u001b[0m startX \u001b[38;5;241m=\u001b[39m \u001b[38;5;241m0\u001b[39m\n\u001b[0;32m     28\u001b[0m endX \u001b[38;5;241m=\u001b[39m \u001b[38;5;241m0\u001b[39m\n\u001b[1;32m---> 29\u001b[0m jeff \u001b[38;5;241m=\u001b[39m \u001b[43mwaterbuffer\u001b[49m[\u001b[38;5;241m1\u001b[39m][\u001b[38;5;241m0\u001b[39m]\n\u001b[0;32m     31\u001b[0m \u001b[38;5;28;01mif\u001b[39;00m(direction \u001b[38;5;241m<\u001b[39m \u001b[38;5;241m2\u001b[39m):\n\u001b[0;32m     32\u001b[0m     \u001b[38;5;66;03m#next two lines need to be changed if map not square    \u001b[39;00m\n\u001b[0;32m     33\u001b[0m     startX \u001b[38;5;241m=\u001b[39m \u001b[38;5;241m0\u001b[39m\n",
      "\u001b[1;31mUnboundLocalError\u001b[0m: cannot access local variable 'waterbuffer' where it is not associated with a value"
     ]
    }
   ],
   "source": [
    "for i in range(500):\n",
    "    waterTick()"
   ]
  }
 ],
 "metadata": {
  "kernelspec": {
   "display_name": "Python 3",
   "language": "python",
   "name": "python3"
  },
  "language_info": {
   "codemirror_mode": {
    "name": "ipython",
    "version": 3
   },
   "file_extension": ".py",
   "mimetype": "text/x-python",
   "name": "python",
   "nbconvert_exporter": "python",
   "pygments_lexer": "ipython3",
   "version": "3.12.4"
  }
 },
 "nbformat": 4,
 "nbformat_minor": 2
}
