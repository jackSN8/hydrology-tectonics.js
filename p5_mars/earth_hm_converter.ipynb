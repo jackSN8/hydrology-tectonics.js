{
 "cells": [
  {
   "cell_type": "code",
   "execution_count": 2,
   "metadata": {},
   "outputs": [],
   "source": [
    "import xarray as xr\n",
    "import numpy as np\n",
    "from PIL import Image"
   ]
  },
  {
   "cell_type": "code",
   "execution_count": 3,
   "metadata": {},
   "outputs": [
    {
     "ename": "ValueError",
     "evalue": "did not find a match in any of xarray's currently installed IO backends ['netcdf4', 'scipy']. Consider explicitly selecting one of the installed engines via the ``engine`` parameter, or installing additional IO dependencies, see:\nhttps://docs.xarray.dev/en/stable/getting-started-guide/installing.html\nhttps://docs.xarray.dev/en/stable/user-guide/io.html",
     "output_type": "error",
     "traceback": [
      "\u001b[1;31m---------------------------------------------------------------------------\u001b[0m",
      "\u001b[1;31mValueError\u001b[0m                                Traceback (most recent call last)",
      "Cell \u001b[1;32mIn[3], line 9\u001b[0m\n\u001b[0;32m      5\u001b[0m OUTPUT_PNG \u001b[38;5;241m=\u001b[39m \u001b[38;5;124m\"\u001b[39m\u001b[38;5;124mearth_heightmap_0to255.png\u001b[39m\u001b[38;5;124m\"\u001b[39m\n\u001b[0;32m      7\u001b[0m \u001b[38;5;66;03m# -----------------------------------------------------------\u001b[39;00m\n\u001b[0;32m      8\u001b[0m \u001b[38;5;66;03m# 1) Load the ETOPO data\u001b[39;00m\n\u001b[1;32m----> 9\u001b[0m ds \u001b[38;5;241m=\u001b[39m \u001b[43mxr\u001b[49m\u001b[38;5;241;43m.\u001b[39;49m\u001b[43mopen_dataset\u001b[49m\u001b[43m(\u001b[49m\u001b[43mETOPO_FILE\u001b[49m\u001b[43m)\u001b[49m\n\u001b[0;32m     11\u001b[0m \u001b[38;5;66;03m# ETOPO can store the elevation data under different variable names,\u001b[39;00m\n\u001b[0;32m     12\u001b[0m \u001b[38;5;66;03m# e.g. 'z' or 'Band1' or 'elevation'.\u001b[39;00m\n\u001b[0;32m     13\u001b[0m \u001b[38;5;66;03m# Inspect ds.data_vars or print(ds) to find the correct var name.\u001b[39;00m\n\u001b[0;32m     14\u001b[0m \u001b[38;5;66;03m# For ETOPO1 \"Ice_g\" .grd file, it's often called 'z'.\u001b[39;00m\n\u001b[0;32m     15\u001b[0m var_name \u001b[38;5;241m=\u001b[39m \u001b[38;5;124m'\u001b[39m\u001b[38;5;124mz\u001b[39m\u001b[38;5;124m'\u001b[39m\n",
      "File \u001b[1;32mc:\\Users\\jacki\\miniforge-pypy3\\envs\\overal\\Lib\\site-packages\\xarray\\backends\\api.py:668\u001b[0m, in \u001b[0;36mopen_dataset\u001b[1;34m(filename_or_obj, engine, chunks, cache, decode_cf, mask_and_scale, decode_times, decode_timedelta, use_cftime, concat_characters, decode_coords, drop_variables, inline_array, chunked_array_type, from_array_kwargs, backend_kwargs, **kwargs)\u001b[0m\n\u001b[0;32m    665\u001b[0m     kwargs\u001b[38;5;241m.\u001b[39mupdate(backend_kwargs)\n\u001b[0;32m    667\u001b[0m \u001b[38;5;28;01mif\u001b[39;00m engine \u001b[38;5;129;01mis\u001b[39;00m \u001b[38;5;28;01mNone\u001b[39;00m:\n\u001b[1;32m--> 668\u001b[0m     engine \u001b[38;5;241m=\u001b[39m \u001b[43mplugins\u001b[49m\u001b[38;5;241;43m.\u001b[39;49m\u001b[43mguess_engine\u001b[49m\u001b[43m(\u001b[49m\u001b[43mfilename_or_obj\u001b[49m\u001b[43m)\u001b[49m\n\u001b[0;32m    670\u001b[0m \u001b[38;5;28;01mif\u001b[39;00m from_array_kwargs \u001b[38;5;129;01mis\u001b[39;00m \u001b[38;5;28;01mNone\u001b[39;00m:\n\u001b[0;32m    671\u001b[0m     from_array_kwargs \u001b[38;5;241m=\u001b[39m {}\n",
      "File \u001b[1;32mc:\\Users\\jacki\\miniforge-pypy3\\envs\\overal\\Lib\\site-packages\\xarray\\backends\\plugins.py:194\u001b[0m, in \u001b[0;36mguess_engine\u001b[1;34m(store_spec)\u001b[0m\n\u001b[0;32m    186\u001b[0m \u001b[38;5;28;01melse\u001b[39;00m:\n\u001b[0;32m    187\u001b[0m     error_msg \u001b[38;5;241m=\u001b[39m (\n\u001b[0;32m    188\u001b[0m         \u001b[38;5;124m\"\u001b[39m\u001b[38;5;124mfound the following matches with the input file in xarray\u001b[39m\u001b[38;5;124m'\u001b[39m\u001b[38;5;124ms IO \u001b[39m\u001b[38;5;124m\"\u001b[39m\n\u001b[0;32m    189\u001b[0m         \u001b[38;5;124mf\u001b[39m\u001b[38;5;124m\"\u001b[39m\u001b[38;5;124mbackends: \u001b[39m\u001b[38;5;132;01m{\u001b[39;00mcompatible_engines\u001b[38;5;132;01m}\u001b[39;00m\u001b[38;5;124m. But their dependencies may not be installed, see:\u001b[39m\u001b[38;5;130;01m\\n\u001b[39;00m\u001b[38;5;124m\"\u001b[39m\n\u001b[0;32m    190\u001b[0m         \u001b[38;5;124m\"\u001b[39m\u001b[38;5;124mhttps://docs.xarray.dev/en/stable/user-guide/io.html \u001b[39m\u001b[38;5;130;01m\\n\u001b[39;00m\u001b[38;5;124m\"\u001b[39m\n\u001b[0;32m    191\u001b[0m         \u001b[38;5;124m\"\u001b[39m\u001b[38;5;124mhttps://docs.xarray.dev/en/stable/getting-started-guide/installing.html\u001b[39m\u001b[38;5;124m\"\u001b[39m\n\u001b[0;32m    192\u001b[0m     )\n\u001b[1;32m--> 194\u001b[0m \u001b[38;5;28;01mraise\u001b[39;00m \u001b[38;5;167;01mValueError\u001b[39;00m(error_msg)\n",
      "\u001b[1;31mValueError\u001b[0m: did not find a match in any of xarray's currently installed IO backends ['netcdf4', 'scipy']. Consider explicitly selecting one of the installed engines via the ``engine`` parameter, or installing additional IO dependencies, see:\nhttps://docs.xarray.dev/en/stable/getting-started-guide/installing.html\nhttps://docs.xarray.dev/en/stable/user-guide/io.html"
     ]
    }
   ],
   "source": [
    "\n",
    "\n",
    "# Path to your downloaded ETOPO file (NetCDF or GMT .grd). Adjust as needed:\n",
    "ETOPO_FILE = \"ETOPO1_Ice_g_gmt4.grd\"  # or .nc, etc.\n",
    "\n",
    "# Output filename for the PNG:\n",
    "OUTPUT_PNG = \"earth_heightmap_0to255.png\"\n",
    "\n",
    "# -----------------------------------------------------------\n",
    "# 1) Load the ETOPO data\n",
    "ds = xr.open_dataset(ETOPO_FILE)\n",
    "\n",
    "# ETOPO can store the elevation data under different variable names,\n",
    "# e.g. 'z' or 'Band1' or 'elevation'.\n",
    "# Inspect ds.data_vars or print(ds) to find the correct var name.\n",
    "# For ETOPO1 \"Ice_g\" .grd file, it's often called 'z'.\n",
    "var_name = 'z'\n",
    "if var_name not in ds.variables:\n",
    "    # If it's not 'z', pick the correct one. Or just do ds.data_vars\n",
    "    print(\"Available data vars:\", ds.data_vars)\n",
    "    raise ValueError(\"Adjust var_name to match your file.\")\n",
    "\n",
    "data = ds[var_name].values  # 2D numpy array: (lat x lon or vice versa)\n",
    "\n",
    "# -----------------------------------------------------------\n",
    "# 2) Find global min/max to map\n",
    "# Deepest ocean ~ -11034 m, top of Everest ~ +8849 m,\n",
    "# but let's rely on the actual data range in this file:\n",
    "min_val = np.nanmin(data)  # typically around -11034 or so\n",
    "max_val = np.nanmax(data)  # typically around +8849 or so\n",
    "print(f\"Data range: {min_val} to {max_val}\")\n",
    "\n",
    "# -----------------------------------------------------------\n",
    "# 3) Normalize the data to [0..1], then scale to [0..255]\n",
    "# We'll clamp or just trust the dataset range.\n",
    "data_clamped = np.clip(data, min_val, max_val)\n",
    "\n",
    "norm_data = (data_clamped - min_val) / (max_val - min_val)  # in [0..1]\n",
    "gray_data = (norm_data * 255.0).astype(np.uint8)\n",
    "\n",
    "# -----------------------------------------------------------\n",
    "# 4) Convert to image and save\n",
    "# The data might be huge (e.g., 10800x5400 for 1 arc-minute),\n",
    "# be mindful of memory. Pillow can handle it if there's enough RAM.\n",
    "img = Image.fromarray(gray_data, mode='L')\n",
    "img.save(OUTPUT_PNG)\n",
    "\n",
    "print(f\"Saved heightmap to {OUTPUT_PNG}\")\n",
    "ds.close()\n"
   ]
  }
 ],
 "metadata": {
  "kernelspec": {
   "display_name": "overal",
   "language": "python",
   "name": "python3"
  },
  "language_info": {
   "codemirror_mode": {
    "name": "ipython",
    "version": 3
   },
   "file_extension": ".py",
   "mimetype": "text/x-python",
   "name": "python",
   "nbconvert_exporter": "python",
   "pygments_lexer": "ipython3",
   "version": "3.13.1"
  }
 },
 "nbformat": 4,
 "nbformat_minor": 2
}
