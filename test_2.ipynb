{
 "cells": [
  {
   "cell_type": "code",
   "execution_count": 15,
   "metadata": {},
   "outputs": [
    {
     "ename": "TypeError",
     "evalue": "'float' object is not iterable",
     "output_type": "error",
     "traceback": [
      "\u001b[1;31m---------------------------------------------------------------------------\u001b[0m",
      "\u001b[1;31mTypeError\u001b[0m                                 Traceback (most recent call last)",
      "Cell \u001b[1;32mIn[15], line 15\u001b[0m\n\u001b[0;32m     13\u001b[0m \u001b[38;5;28;01mfor\u001b[39;00m i \u001b[38;5;129;01min\u001b[39;00m \u001b[38;5;28mrange\u001b[39m(grid_size):\n\u001b[0;32m     14\u001b[0m         \u001b[38;5;28;01mfor\u001b[39;00m j \u001b[38;5;129;01min\u001b[39;00m \u001b[38;5;28mrange\u001b[39m(grid_size):\n\u001b[1;32m---> 15\u001b[0m             \u001b[38;5;28mprint\u001b[39m(\u001b[43mnoise\u001b[49m\u001b[43m(\u001b[49m\u001b[43mi\u001b[49m\u001b[38;5;241;43m/\u001b[39;49m\u001b[43mscale\u001b[49m\u001b[43m,\u001b[49m\u001b[43mj\u001b[49m\u001b[38;5;241;43m/\u001b[39;49m\u001b[43mscale\u001b[49m\u001b[43m)\u001b[49m)\n\u001b[0;32m     16\u001b[0m             heightmap[i][j] \u001b[38;5;241m=\u001b[39m noise([i \u001b[38;5;241m/\u001b[39m scale, j \u001b[38;5;241m/\u001b[39m scale])\u001b[38;5;241m*\u001b[39m\u001b[38;5;241m100\u001b[39m\n\u001b[0;32m     17\u001b[0m             \u001b[38;5;66;03m#heightmap[i][j] = randint(0,150)\u001b[39;00m\n\u001b[0;32m     18\u001b[0m \u001b[38;5;66;03m#print(heightmap[12][30])\u001b[39;00m\n",
      "File \u001b[1;32m~\\AppData\\Local\\Packages\\PythonSoftwareFoundation.Python.3.12_qbz5n2kfra8p0\\LocalCache\\local-packages\\Python312\\site-packages\\perlin_noise\\perlin_noise.py:57\u001b[0m, in \u001b[0;36mPerlinNoise.__call__\u001b[1;34m(self, coordinates, tile_sizes)\u001b[0m\n\u001b[0;32m     43\u001b[0m \u001b[38;5;28;01mdef\u001b[39;00m \u001b[38;5;21m__call__\u001b[39m(\n\u001b[0;32m     44\u001b[0m     \u001b[38;5;28mself\u001b[39m,\n\u001b[0;32m     45\u001b[0m     coordinates: Union[\u001b[38;5;28mint\u001b[39m, \u001b[38;5;28mfloat\u001b[39m, List, Tuple],\n\u001b[0;32m     46\u001b[0m     tile_sizes: Optional[Union[\u001b[38;5;28mint\u001b[39m, List, Tuple]] \u001b[38;5;241m=\u001b[39m \u001b[38;5;28;01mNone\u001b[39;00m,\n\u001b[0;32m     47\u001b[0m ) \u001b[38;5;241m-\u001b[39m\u001b[38;5;241m>\u001b[39m \u001b[38;5;28mfloat\u001b[39m:\n\u001b[0;32m     48\u001b[0m \u001b[38;5;250m    \u001b[39m\u001b[38;5;124;03m\"\"\"Forward request to noise function.\u001b[39;00m\n\u001b[0;32m     49\u001b[0m \n\u001b[0;32m     50\u001b[0m \u001b[38;5;124;03m    Parameters:\u001b[39;00m\n\u001b[1;32m   (...)\u001b[0m\n\u001b[0;32m     55\u001b[0m \u001b[38;5;124;03m        noise_value\u001b[39;00m\n\u001b[0;32m     56\u001b[0m \u001b[38;5;124;03m    \"\"\"\u001b[39;00m\n\u001b[1;32m---> 57\u001b[0m     \u001b[38;5;28;01mreturn\u001b[39;00m \u001b[38;5;28;43mself\u001b[39;49m\u001b[38;5;241;43m.\u001b[39;49m\u001b[43mnoise\u001b[49m\u001b[43m(\u001b[49m\u001b[43mcoordinates\u001b[49m\u001b[43m,\u001b[49m\u001b[43m \u001b[49m\u001b[43mtile_sizes\u001b[49m\u001b[43m)\u001b[49m\n",
      "File \u001b[1;32m~\\AppData\\Local\\Packages\\PythonSoftwareFoundation.Python.3.12_qbz5n2kfra8p0\\LocalCache\\local-packages\\Python312\\site-packages\\perlin_noise\\perlin_noise.py:89\u001b[0m, in \u001b[0;36mPerlinNoise.noise\u001b[1;34m(self, coordinates, tile_sizes)\u001b[0m\n\u001b[0;32m     87\u001b[0m     tile_sizes \u001b[38;5;241m=\u001b[39m [tile_sizes]\n\u001b[0;32m     88\u001b[0m \u001b[38;5;66;03m# fmt: off\u001b[39;00m\n\u001b[1;32m---> 89\u001b[0m \u001b[38;5;28;01mif\u001b[39;00m \u001b[38;5;129;01mnot\u001b[39;00m \u001b[38;5;28mall\u001b[39m\u001b[43m(\u001b[49m\u001b[38;5;28;43misinstance\u001b[39;49m\u001b[43m(\u001b[49m\u001b[43mtile\u001b[49m\u001b[43m,\u001b[49m\u001b[43m \u001b[49m\u001b[38;5;28;43mint\u001b[39;49m\u001b[43m)\u001b[49m\u001b[43m \u001b[49m\u001b[38;5;28;43;01mfor\u001b[39;49;00m\u001b[43m \u001b[49m\u001b[43mtile\u001b[49m\u001b[43m \u001b[49m\u001b[38;5;129;43;01min\u001b[39;49;00m\u001b[43m \u001b[49m\u001b[43mtile_sizes\u001b[49m\u001b[43m)\u001b[49m:\n\u001b[0;32m     90\u001b[0m     \u001b[38;5;28;01mraise\u001b[39;00m \u001b[38;5;167;01mTypeError\u001b[39;00m(\u001b[38;5;124m\"\u001b[39m\u001b[38;5;124mtile_sizes must be int or list of int\u001b[39m\u001b[38;5;124m\"\u001b[39m)\n\u001b[0;32m     91\u001b[0m \u001b[38;5;66;03m# fmt: on\u001b[39;00m\n",
      "\u001b[1;31mTypeError\u001b[0m: 'float' object is not iterable"
     ]
    }
   ],
   "source": [
    "import numpy as np\n",
    "import matplotlib.pyplot as plt\n",
    "import matplotlib.animation as animation\n",
    "from perlin_noise import PerlinNoise\n",
    "import processing_py as processing\n",
    "from random import randint\n",
    "\n",
    "# Set up the heightmap and initial water levels\n",
    "scale = 10\n",
    "noise = PerlinNoise(octaves=scale)\n",
    "\n",
    "grid_size = 50\n",
    "heightmap = np.zeros((grid_size, grid_size))  # Random heightmap\n",
    "for i in range(grid_size):\n",
    "        for j in range(grid_size):\n",
    "            print(processing.noise(i,j))\n",
    "            heightmap[i][j] = processing.noise(i,j)\n",
    "            #heightmap[i][j] = randint(0,150)\n",
    "#print(heightmap[12][30])\n",
    "water = np.full((grid_size, grid_size), 1.0)  # Initial even layer of water\n",
    "\n",
    "# Simulation parameters\n",
    "time_steps = 100\n",
    "flow_rate = 0.1  # Proportion of water that flows per time step\n",
    "\n",
    "# Helper function to calculate the total height (terrain + water)\n",
    "def total_height(heightmap, water):\n",
    "    return heightmap + water\n",
    "\n",
    "# Simulation loop\n",
    "for t in range(time_steps):\n",
    "    new_water = np.copy(water)\n",
    "    for i in range(1, grid_size-1):\n",
    "        for j in range(1, grid_size-1):\n",
    "            # Calculate the difference in total height with neighboring cells\n",
    "            th = total_height(heightmap, water)\n",
    "            dh_right = th[i, j] - th[i, j+1]\n",
    "            dh_left = th[i, j] - th[i, j-1]\n",
    "            dh_up = th[i, j] - th[i-1, j]\n",
    "            dh_down = th[i, j] - th[i+1, j]\n",
    "            \n",
    "            # Flow water based on height differences\n",
    "            if dh_right > 0:\n",
    "                flow = flow_rate * dh_right\n",
    "                new_water[i, j] -= flow\n",
    "                new_water[i, j+1] += flow\n",
    "            if dh_left > 0:\n",
    "                flow = flow_rate * dh_left\n",
    "                new_water[i, j] -= flow\n",
    "                new_water[i, j-1] += flow\n",
    "            if dh_up > 0:\n",
    "                flow = flow_rate * dh_up\n",
    "                new_water[i, j] -= flow\n",
    "                new_water[i-1, j] += flow\n",
    "            if dh_down > 0:\n",
    "                flow = flow_rate * dh_down\n",
    "                new_water[i, j] -= flow\n",
    "                new_water[i+1, j] += flow\n",
    "\n",
    "    water = new_water\n",
    "\n",
    "\n",
    "\n",
    "# # Optionally, create an animation to visualize the water flow over time\n",
    "# def update_plot(frame):\n",
    "#     plt.clf()\n",
    "#     plt.imshow(water_history[frame], cmap='Blues')\n",
    "#     plt.colorbar(label='Water Level')\n",
    "#     plt.title(f'Water Distribution at Time Step {frame}')\n",
    "\n",
    "# water_history = [np.copy(water)]\n",
    "# for t in range(time_steps):\n",
    "#     new_water = np.copy(water_history[-1])\n",
    "#     for i in range(1, grid_size-1):\n",
    "#         for j in range(1, grid_size-1):\n",
    "#             th = total_height(heightmap, new_water)\n",
    "#             dh_right = th[i, j] - th[i, j+1]\n",
    "#             dh_left = th[i, j] - th[i, j-1]\n",
    "#             dh_up = th[i, j] - th[i-1, j]\n",
    "#             dh_down = th[i, j] - th[i+1, j]\n",
    "#             if dh_right > 0:\n",
    "#                 flow = flow_rate * dh_right\n",
    "#                 new_water[i, j] -= flow\n",
    "#                 new_water[i, j+1] += flow\n",
    "#             if dh_left > 0:\n",
    "#                 flow = flow_rate * dh_left\n",
    "#                 new_water[i, j] -= flow\n",
    "#                 new_water[i, j-1] += flow\n",
    "#             if dh_up > 0:\n",
    "#                 flow = flow_rate * dh_up\n",
    "#                 new_water[i, j] -= flow\n",
    "#                 new_water[i-1, j] += flow\n",
    "#             if dh_down > 0:\n",
    "#                 flow = flow_rate * dh_down\n",
    "#                 new_water[i, j] -= flow\n",
    "#                 new_water[i+1, j] += flow\n",
    "\n",
    "#     water_history.append(np.copy(new_water))\n"
   ]
  },
  {
   "cell_type": "code",
   "execution_count": 13,
   "metadata": {},
   "outputs": [
    {
     "data": {
      "image/png": "[encoded data removed]",
      "text/plain": [
       "<Figure size 1200x600 with 2 Axes>"
      ]
     },
     "metadata": {},
     "output_type": "display_data"
    },
    {
     "data": {
      "text/plain": [
       "<Figure size 640x480 with 0 Axes>"
      ]
     },
     "metadata": {},
     "output_type": "display_data"
    }
   ],
   "source": [
    "# Plot the final water distribution and heightmap\n",
    "fig, ax = plt.subplots(1, 2, figsize=(12, 6))\n",
    "\n",
    "ax[0].imshow(heightmap, cmap='terrain')\n",
    "ax[0].set_title('Heightmap')\n",
    "#ax[0].colorbar(label='Height')\n",
    "\n",
    "ax[1].imshow(water, cmap='Blues')\n",
    "ax[1].set_title('Final Water Distribution')\n",
    "#ax[1].colorbar(label='Water Level')\n",
    "\n",
    "plt.show()\n",
    "\n",
    "\n",
    "fig = plt.figure()\n",
    "#ani = animation.FuncAnimation(fig, update_plot, frames=time_steps, repeat=False)\n",
    "plt.show()"
   ]
  }
 ],
 "metadata": {
  "kernelspec": {
   "display_name": "Python 3",
   "language": "python",
   "name": "python3"
  },
  "language_info": {
   "codemirror_mode": {
    "name": "ipython",
    "version": 3
   },
   "file_extension": ".py",
   "mimetype": "text/x-python",
   "name": "python",
   "nbconvert_exporter": "python",
   "pygments_lexer": "ipython3",
   "version": "3.12.5"
  }
 },
 "nbformat": 4,
 "nbformat_minor": 2
}
